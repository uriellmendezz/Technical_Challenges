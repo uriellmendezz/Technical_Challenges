{
 "cells": [
  {
   "attachments": {},
   "cell_type": "markdown",
   "metadata": {},
   "source": [
    "A partir de la siguiente secuencia de numeros, encontrar cuales son los 11 numeros consecutivos que multiplicados entre si (su producto) den el mayor numero posible.\n",
    "<br><br>\n",
    "7326 2647 9781 9004 6834 6616 6262 3198 1148 5546 7224 9891 8417 2346 7401 1613 9453 3546 7123 5833 4647 6356 9603 8138 3553 2152 9861 2223 8217 2048 9251 2360 3983 7945 8818 9829 6319 7335 1521 2965 2971 3115 6742 2320 8222 3483 4552 9095 9391 8813 4088 9887 2201 5765 1727 4655 9890 8409 5351 5285 2861 7641 1567 3985 1722 3525 8024 9714 4719 7404 4302 8466 6168 6114 1734 8686 7551 6268 1917 3056 8903 8109 9663 8412 3573 8211 9977 4609 7468 9979 3476 4047 2629 3943 2386 7173 8721 5703 7286 1964 2024 7654 1916 8788 2878 3254 3726 6057 2771 5038 8785 3131 7635 1539 2375 3067 9645 4602 3482 7872 8205 7088 4855 2009 3595 6105 7148 2015 3877 5422 3648 2590 3376 3529 2929 4225 7767 5961 8933 7313 7913 5735 4442 2752 8379 3085 7748 4956 5552 7851 5494 9276 7117 1943 1473 6333 6453 3718 6194 9736 1517 4114 5218 9064 2364 4869 5152 2046 4858 8042 1877 7970 4501 5246 3021 8943 9133 7163 2397 3928 4098 2926 5091 9010 2328 1086 4019 2689 8342 6765 8558 3165 6282 6925 5747 3865 1378 7419 8581 5315 5108 2821 3233 4753 7403 6825 8512 9682 2469 7565 9445 5058 8783 8123 1483 7413 8798 9590 2621 7079 8225 7517 8865 2888 4645 1370 3705 9858 7269 2729 4131 9301 2278 9664 5316 1564 9894 7034 4026 8134 1959 4074 3656 9878\n"
   ]
  },
  {
   "cell_type": "code",
   "execution_count": 69,
   "metadata": {},
   "outputs": [],
   "source": [
    "numbers = \"7326 2647 9781 9004 6834 6616 6262 3198 1148 5546 7224 9891 8417 2346 7401 1613 9453 3546 7123 5833 4647 6356 9603 8138 3553 2152 9861 2223 8217 2048 9251 2360 3983 7945 8818 9829 6319 7335 1521 2965 2971 3115 6742 2320 8222 3483 4552 9095 9391 8813 4088 9887 2201 5765 1727 4655 9890 8409 5351 5285 2861 7641 1567 3985 1722 3525 8024 9714 4719 7404 4302 8466 6168 6114 1734 8686 7551 6268 1917 3056 8903 8109 9663 8412 3573 8211 9977 4609 7468 9979 3476 4047 2629 3943 2386 7173 8721 5703 7286 1964 2024 7654 1916 8788 2878 3254 3726 6057 2771 5038 8785 3131 7635 1539 2375 3067 9645 4602 3482 7872 8205 7088 4855 2009 3595 6105 7148 2015 3877 5422 3648 2590 3376 3529 2929 4225 7767 5961 8933 7313 7913 5735 4442 2752 8379 3085 7748 4956 5552 7851 5494 9276 7117 1943 1473 6333 6453 3718 6194 9736 1517 4114 5218 9064 2364 4869 5152 2046 4858 8042 1877 7970 4501 5246 3021 8943 9133 7163 2397 3928 4098 2926 5091 9010 2328 1086 4019 2689 8342 6765 8558 3165 6282 6925 5747 3865 1378 7419 8581 5315 5108 2821 3233 4753 7403 6825 8512 9682 2469 7565 9445 5058 8783 8123 1483 7413 8798 9590 2621 7079 8225 7517 8865 2888 4645 1370 3705 9858 7269 2729 4131 9301 2278 9664 5316 1564 9894 7034 4026 8134 1959 4074 3656 9878\""
   ]
  },
  {
   "cell_type": "code",
   "execution_count": 70,
   "metadata": {},
   "outputs": [],
   "source": [
    "list_numbers = numbers.split(\" \") #Dividir el string por los espacios y asi generar una lista con los numeros unicamente"
   ]
  },
  {
   "cell_type": "code",
   "execution_count": 71,
   "metadata": {},
   "outputs": [
    {
     "data": {
      "text/plain": [
       "['7326', '2647', '9781', '9004', '6834']"
      ]
     },
     "execution_count": 71,
     "metadata": {},
     "output_type": "execute_result"
    }
   ],
   "source": [
    "list_numbers[:5]"
   ]
  },
  {
   "cell_type": "code",
   "execution_count": 72,
   "metadata": {},
   "outputs": [
    {
     "data": {
      "text/plain": [
       "[7326, 2647, 9781, 9004, 6834]"
      ]
     },
     "execution_count": 72,
     "metadata": {},
     "output_type": "execute_result"
    }
   ],
   "source": [
    "# Aca lo unico que hago es convertir cada elemento de la lista en un numero, ya que originalmente se guardaron como strings\n",
    "int_list = []\n",
    "for i in list_numbers:\n",
    "    i = int(i)\n",
    "    int_list.append(i)\n",
    "\n",
    "list_numbers = int_list\n",
    "list_numbers[:5]"
   ]
  },
  {
   "cell_type": "code",
   "execution_count": 73,
   "metadata": {},
   "outputs": [],
   "source": [
    "# Como luego ire eliminando numeros de la lista, creamos una copia para no perder la lista original\n",
    "list_numbers_2 = list_numbers.copy()"
   ]
  },
  {
   "cell_type": "code",
   "execution_count": 74,
   "metadata": {},
   "outputs": [
    {
     "data": {
      "text/plain": [
       "[703463044096330132540577408572029354039803904,\n",
       " 808223920578598242641829108374388625846714368,\n",
       " 716317838185640905643268261521086405831655424,\n",
       " 542017004438393655318048093601631785048571904,\n",
       " 97098337201147153046202973676080860648972288,\n",
       " 134309420772965179652583656739829144822173696,\n",
       " 71986276611386718114882352901970094851787776,\n",
       " 81884102252141103981524592737261735169160704,\n",
       " 149352710580593827243349890380377642664701184,\n",
       " 604566242219529194424953781008375353190650176,\n",
       " 692863872258804103816265097744182067234001536,\n",
       " 921037066071607946975026818056115779574766992,\n",
       " 757799984196819883983699145216931575591897056,\n",
       " 319883966241095526647746591773287143647143904,\n",
       " 293431498444517294691368570117695623669502848,\n",
       " 390964465094093371564867648956978319822316928,\n",
       " 538818354559311571598698563937608682557353088,\n",
       " 468366700456348586038982978935293615209327232,\n",
       " 270506204888494614835825476835725133657276416,\n",
       " 351320076010594367800957670392712791164321792]"
      ]
     },
     "execution_count": 74,
     "metadata": {},
     "output_type": "execute_result"
    }
   ],
   "source": [
    "# Creamos una lista solo para los productos de la multiplicacion de los 11 numeros consecutivos\n",
    "products_list = []\n",
    "while len(list_numbers) > 11:\n",
    "    producto = 1\n",
    "    for i in range(12):\n",
    "        producto *= list_numbers[i]\n",
    "    products_list.append(producto)\n",
    "    producto = 1\n",
    "    list_numbers.pop(0)\n",
    "\n",
    "total_products = products_list\n",
    "total_products[:20]"
   ]
  },
  {
   "cell_type": "code",
   "execution_count": 75,
   "metadata": {},
   "outputs": [
    {
     "data": {
      "text/plain": [
       "[[7326, 2647, 9781, 9004, 6834, 6616, 6262, 3198, 1148, 5546, 7224],\n",
       " [2647, 9781, 9004, 6834, 6616, 6262, 3198, 1148, 5546, 7224, 9891],\n",
       " [9781, 9004, 6834, 6616, 6262, 3198, 1148, 5546, 7224, 9891, 8417],\n",
       " [9004, 6834, 6616, 6262, 3198, 1148, 5546, 7224, 9891, 8417, 2346],\n",
       " [6834, 6616, 6262, 3198, 1148, 5546, 7224, 9891, 8417, 2346, 7401],\n",
       " [6616, 6262, 3198, 1148, 5546, 7224, 9891, 8417, 2346, 7401, 1613],\n",
       " [6262, 3198, 1148, 5546, 7224, 9891, 8417, 2346, 7401, 1613, 9453],\n",
       " [3198, 1148, 5546, 7224, 9891, 8417, 2346, 7401, 1613, 9453, 3546],\n",
       " [1148, 5546, 7224, 9891, 8417, 2346, 7401, 1613, 9453, 3546, 7123],\n",
       " [5546, 7224, 9891, 8417, 2346, 7401, 1613, 9453, 3546, 7123, 5833],\n",
       " [7224, 9891, 8417, 2346, 7401, 1613, 9453, 3546, 7123, 5833, 4647],\n",
       " [9891, 8417, 2346, 7401, 1613, 9453, 3546, 7123, 5833, 4647, 6356],\n",
       " [8417, 2346, 7401, 1613, 9453, 3546, 7123, 5833, 4647, 6356, 9603],\n",
       " [2346, 7401, 1613, 9453, 3546, 7123, 5833, 4647, 6356, 9603, 8138],\n",
       " [7401, 1613, 9453, 3546, 7123, 5833, 4647, 6356, 9603, 8138, 3553],\n",
       " [1613, 9453, 3546, 7123, 5833, 4647, 6356, 9603, 8138, 3553, 2152],\n",
       " [9453, 3546, 7123, 5833, 4647, 6356, 9603, 8138, 3553, 2152, 9861],\n",
       " [3546, 7123, 5833, 4647, 6356, 9603, 8138, 3553, 2152, 9861, 2223],\n",
       " [7123, 5833, 4647, 6356, 9603, 8138, 3553, 2152, 9861, 2223, 8217],\n",
       " [5833, 4647, 6356, 9603, 8138, 3553, 2152, 9861, 2223, 8217, 2048]]"
      ]
     },
     "execution_count": 75,
     "metadata": {},
     "output_type": "execute_result"
    }
   ],
   "source": [
    "groups_list = []\n",
    "while len(list_numbers_2) > 11: # Generar un ciclo que se reproduzca siempre y cuando la longitud de la lista sea mayor a 11\n",
    "    sub_list = [] # Esta lista es para ir alojando los grupos de 11 numeros consecutivos\n",
    "    for i in range(11):\n",
    "        sub_list.append(list_numbers_2[i]) # Inserta 11 valores a la lista sub_list para asi obtenr un grupo de 11 numeros consecutivos\n",
    "    # Una vez que tengamos el grupo de 11 numeros consecutivos, agregamos el grupo a la groups_list en donde se va a ir alojando\n",
    "    # los grupos de 11 numeros. Luego vaciamos la lista sub_list para volver a empezar de nuevo con el grupo de 11 numeros que le sigue\n",
    "    # y por ultimo eliminamos el primer valor de la lista list_numbers_2 asi lo descartamos para el proximo grupo de 11 numeros\n",
    "    groups_list.append(sub_list) \n",
    "    sub_list = []\n",
    "    list_numbers_2.pop(0)\n",
    "groups_list[:20]"
   ]
  },
  {
   "cell_type": "code",
   "execution_count": 76,
   "metadata": {},
   "outputs": [],
   "source": [
    "import pandas as pd"
   ]
  },
  {
   "cell_type": "code",
   "execution_count": 77,
   "metadata": {},
   "outputs": [],
   "source": [
    "dicc = {\n",
    "    \"Lista de 11 numeros consecutivos\":groups_list,\n",
    "    \"Total de la multiplicacion\":total_products\n",
    "}"
   ]
  },
  {
   "cell_type": "code",
   "execution_count": 78,
   "metadata": {},
   "outputs": [],
   "source": [
    "# Convierto los valores de la columna \"Total de la multiplicacion\" a numeros\n",
    "df = pd.DataFrame(dicc)\n",
    "df[\"Total de la multiplicacion\"] = pd.to_numeric(df[\"Total de la multiplicacion\"], errors=\"coerce\")"
   ]
  },
  {
   "cell_type": "code",
   "execution_count": 79,
   "metadata": {},
   "outputs": [],
   "source": [
    "# Acomodo las columnas del df a mi preferencia\n",
    "df = df[[\"Lista de 11 numeros consecutivos\",\"Total de la multiplicacion\"]]"
   ]
  },
  {
   "cell_type": "code",
   "execution_count": 80,
   "metadata": {},
   "outputs": [],
   "source": [
    "# Ordeno el df de manera descendiente en funcion a los valores de la columna \"Total de la multiplicacion\"\n",
    "df = df.sort_values(\"Total de la multiplicacion\",ascending=False)"
   ]
  },
  {
   "cell_type": "code",
   "execution_count": 81,
   "metadata": {},
   "outputs": [
    {
     "data": {
      "text/html": [
       "<div>\n",
       "<style scoped>\n",
       "    .dataframe tbody tr th:only-of-type {\n",
       "        vertical-align: middle;\n",
       "    }\n",
       "\n",
       "    .dataframe tbody tr th {\n",
       "        vertical-align: top;\n",
       "    }\n",
       "\n",
       "    .dataframe thead th {\n",
       "        text-align: right;\n",
       "    }\n",
       "</style>\n",
       "<table border=\"1\" class=\"dataframe\">\n",
       "  <thead>\n",
       "    <tr style=\"text-align: right;\">\n",
       "      <th></th>\n",
       "      <th>Lista de 11 numeros consecutivos</th>\n",
       "      <th>Total de la multiplicacion</th>\n",
       "    </tr>\n",
       "  </thead>\n",
       "  <tbody>\n",
       "    <tr>\n",
       "      <th>80</th>\n",
       "      <td>[8903, 8109, 9663, 8412, 3573, 8211, 9977, 460...</td>\n",
       "      <td>8.299558e+45</td>\n",
       "    </tr>\n",
       "    <tr>\n",
       "      <th>79</th>\n",
       "      <td>[3056, 8903, 8109, 9663, 8412, 3573, 8211, 997...</td>\n",
       "      <td>6.267223e+45</td>\n",
       "    </tr>\n",
       "    <tr>\n",
       "      <th>206</th>\n",
       "      <td>[8512, 9682, 2469, 7565, 9445, 5058, 8783, 812...</td>\n",
       "      <td>4.866364e+45</td>\n",
       "    </tr>\n",
       "    <tr>\n",
       "      <th>75</th>\n",
       "      <td>[8686, 7551, 6268, 1917, 3056, 8903, 8109, 966...</td>\n",
       "      <td>4.136878e+45</td>\n",
       "    </tr>\n",
       "    <tr>\n",
       "      <th>202</th>\n",
       "      <td>[3233, 4753, 7403, 6825, 8512, 9682, 2469, 756...</td>\n",
       "      <td>4.073341e+45</td>\n",
       "    </tr>\n",
       "    <tr>\n",
       "      <th>...</th>\n",
       "      <td>...</td>\n",
       "      <td>...</td>\n",
       "    </tr>\n",
       "    <tr>\n",
       "      <th>177</th>\n",
       "      <td>[7163, 2397, 3928, 4098, 2926, 5091, 9010, 232...</td>\n",
       "      <td>8.454743e+42</td>\n",
       "    </tr>\n",
       "    <tr>\n",
       "      <th>178</th>\n",
       "      <td>[2397, 3928, 4098, 2926, 5091, 9010, 2328, 108...</td>\n",
       "      <td>7.984970e+42</td>\n",
       "    </tr>\n",
       "    <tr>\n",
       "      <th>122</th>\n",
       "      <td>[4855, 2009, 3595, 6105, 7148, 2015, 3877, 542...</td>\n",
       "      <td>7.295874e+42</td>\n",
       "    </tr>\n",
       "    <tr>\n",
       "      <th>104</th>\n",
       "      <td>[2878, 3254, 3726, 6057, 2771, 5038, 8785, 313...</td>\n",
       "      <td>6.946297e+42</td>\n",
       "    </tr>\n",
       "    <tr>\n",
       "      <th>123</th>\n",
       "      <td>[2009, 3595, 6105, 7148, 2015, 3877, 5422, 364...</td>\n",
       "      <td>4.401569e+42</td>\n",
       "    </tr>\n",
       "  </tbody>\n",
       "</table>\n",
       "<p>233 rows × 2 columns</p>\n",
       "</div>"
      ],
      "text/plain": [
       "                      Lista de 11 numeros consecutivos  \\\n",
       "80   [8903, 8109, 9663, 8412, 3573, 8211, 9977, 460...   \n",
       "79   [3056, 8903, 8109, 9663, 8412, 3573, 8211, 997...   \n",
       "206  [8512, 9682, 2469, 7565, 9445, 5058, 8783, 812...   \n",
       "75   [8686, 7551, 6268, 1917, 3056, 8903, 8109, 966...   \n",
       "202  [3233, 4753, 7403, 6825, 8512, 9682, 2469, 756...   \n",
       "..                                                 ...   \n",
       "177  [7163, 2397, 3928, 4098, 2926, 5091, 9010, 232...   \n",
       "178  [2397, 3928, 4098, 2926, 5091, 9010, 2328, 108...   \n",
       "122  [4855, 2009, 3595, 6105, 7148, 2015, 3877, 542...   \n",
       "104  [2878, 3254, 3726, 6057, 2771, 5038, 8785, 313...   \n",
       "123  [2009, 3595, 6105, 7148, 2015, 3877, 5422, 364...   \n",
       "\n",
       "     Total de la multiplicacion  \n",
       "80                 8.299558e+45  \n",
       "79                 6.267223e+45  \n",
       "206                4.866364e+45  \n",
       "75                 4.136878e+45  \n",
       "202                4.073341e+45  \n",
       "..                          ...  \n",
       "177                8.454743e+42  \n",
       "178                7.984970e+42  \n",
       "122                7.295874e+42  \n",
       "104                6.946297e+42  \n",
       "123                4.401569e+42  \n",
       "\n",
       "[233 rows x 2 columns]"
      ]
     },
     "execution_count": 81,
     "metadata": {},
     "output_type": "execute_result"
    }
   ],
   "source": [
    "df"
   ]
  },
  {
   "cell_type": "code",
   "execution_count": 82,
   "metadata": {},
   "outputs": [
    {
     "name": "stdout",
     "output_type": "stream",
     "text": [
      "Estos son los 11 numeros consecutivos de la secuencia que multiplicados entre si dan el mayor producto posible\n",
      "[8903, 8109, 9663, 8412, 3573, 8211, 9977, 4609, 7468, 9979, 3476]\n",
      "\n",
      "Este grupo de 11 numeros consecutivos se encuentra en la posicion 80 de la secuencia\n",
      "\n",
      "El producto de la multiplicaicon de los 11 numeros es\n",
      "8299558111287508560272843623382752974935351232 \n",
      "len: 46\n"
     ]
    }
   ],
   "source": [
    "print(\"Estos son los 11 numeros consecutivos de la secuencia que multiplicados entre si dan el mayor producto posible\")\n",
    "print(df[\"Lista de 11 numeros consecutivos\"][df[\"Total de la multiplicacion\"].idxmax()])\n",
    "print(\"\")\n",
    "print(f\"Este grupo de 11 numeros consecutivos se encuentra en la posicion {total_products.index(max(total_products))} de la secuencia\")\n",
    "print(\"\")\n",
    "print(\"El producto de la multiplicaicon de los 11 numeros es\")\n",
    "print(total_products[df[\"Total de la multiplicacion\"].idxmax()],\"\\nlen:\",len(str(total_products[df[\"Total de la multiplicacion\"].idxmax()])))"
   ]
  },
  {
   "cell_type": "code",
   "execution_count": 83,
   "metadata": {},
   "outputs": [
    {
     "data": {
      "text/html": [
       "<div>\n",
       "<style scoped>\n",
       "    .dataframe tbody tr th:only-of-type {\n",
       "        vertical-align: middle;\n",
       "    }\n",
       "\n",
       "    .dataframe tbody tr th {\n",
       "        vertical-align: top;\n",
       "    }\n",
       "\n",
       "    .dataframe thead th {\n",
       "        text-align: right;\n",
       "    }\n",
       "</style>\n",
       "<table border=\"1\" class=\"dataframe\">\n",
       "  <thead>\n",
       "    <tr style=\"text-align: right;\">\n",
       "      <th></th>\n",
       "      <th>Lista de 11 numeros consecutivos</th>\n",
       "      <th>Total de la multiplicacion</th>\n",
       "    </tr>\n",
       "  </thead>\n",
       "  <tbody>\n",
       "    <tr>\n",
       "      <th>80</th>\n",
       "      <td>[8903, 8109, 9663, 8412, 3573, 8211, 9977, 460...</td>\n",
       "      <td>8.299558e+45</td>\n",
       "    </tr>\n",
       "  </tbody>\n",
       "</table>\n",
       "</div>"
      ],
      "text/plain": [
       "                     Lista de 11 numeros consecutivos  \\\n",
       "80  [8903, 8109, 9663, 8412, 3573, 8211, 9977, 460...   \n",
       "\n",
       "    Total de la multiplicacion  \n",
       "80                8.299558e+45  "
      ]
     },
     "execution_count": 83,
     "metadata": {},
     "output_type": "execute_result"
    }
   ],
   "source": [
    "df.head(1)"
   ]
  },
  {
   "attachments": {},
   "cell_type": "markdown",
   "metadata": {},
   "source": [
    "7326 2647 9781 9004 6834 6616 6262 3198 1148 5546 7224 9891 8417 2346 7401 1613 9453 3546 7123 5833 4647 6356 9603 8138 3553 2152 9861 2223 8217 2048 9251 2360 3983 7945 8818 9829 6319 7335 1521 2965 2971 3115 6742 2320 8222 3483 4552 9095 9391 8813 4088 9887 2201 5765 1727 4655 9890 8409 5351 5285 2861 7641 1567 3985 1722 3525 8024 9714 4719 7404 4302 8466 6168 6114 1734 8686 7551 6268 1917 3056 <mark>8903 8109 9663 8412 3573 8211 9977 4609 7468 9979 3476</mark> 4047 2629 3943 2386 7173 8721 5703 7286 1964 2024 7654 1916 8788 2878 3254 3726 6057 2771 5038 8785 3131 7635 1539 2375 3067 9645 4602 3482 7872 8205 7088 4855 2009 3595 6105 7148 2015 3877 5422 3648 2590 3376 3529 2929 4225 7767 5961 8933 7313 7913 5735 4442 2752 8379 3085 7748 4956 5552 7851 5494 9276 7117 1943 1473 6333 6453 3718 6194 9736 1517 4114 5218 9064 2364 4869 5152 2046 4858 8042 1877 7970 4501 5246 3021 8943 9133 7163 2397 3928 4098 2926 5091 9010 2328 1086 4019 2689 8342 6765 8558 3165 6282 6925 5747 3865 1378 7419 8581 5315 5108 2821 3233 4753 7403 6825 8512 9682 2469 7565 9445 5058 8783 8123 1483 7413 8798 9590 2621 7079 8225 7517 8865 2888 4645 1370 3705 9858 7269 2729 4131 9301 2278 9664 5316 1564 9894 7034 4026 8134 1959 4074 3656 9878"
   ]
  }
 ],
 "metadata": {
  "kernelspec": {
   "display_name": "Python 3",
   "language": "python",
   "name": "python3"
  },
  "language_info": {
   "codemirror_mode": {
    "name": "ipython",
    "version": 3
   },
   "file_extension": ".py",
   "mimetype": "text/x-python",
   "name": "python",
   "nbconvert_exporter": "python",
   "pygments_lexer": "ipython3",
   "version": "3.10.11"
  },
  "orig_nbformat": 4
 },
 "nbformat": 4,
 "nbformat_minor": 2
}
