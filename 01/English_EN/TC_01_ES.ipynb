{
 "cells": [
  {
   "attachments": {},
   "cell_type": "markdown",
   "metadata": {},
   "source": [
    "From the following sequence of numbers, find which are the 11 consecutive numbers that multiplied together (their product) give the largest possible number.\n",
    "<br><br>\n",
    "7326 2647 9781 9004 6834 6616 6262 3198 1148 5546 7224 9891 8417 2346 7401 1613 9453 3546 7123 5833 4647 6356 9603 8138 3 553 2152 9861 2223 8217 2048 9251 2360 3983 7945 8818 9829 6319 7335 1521 2965 2971 3115 6742 2320 8222 3483 4552 9095 9391 8813 4088 9887 2201 5765 1727 4655 9890 8409 5351 5285 2861 7641 1567 3985 1722 3525 8024 9714 4719 7404 4302 8466 6168 6114 1 734 8686 7551 6268 1917 3056 8903 8109 9663 8412 3573 8211 9977 4609 7468 9979 3476 4047 2629 3943 2386 7173 8721 5703 7286 1964 2024 7654 1916 8788 2878 3254 3726 6057 2771 5038 8785 3131 7635 1539 2375 3067 9645 4602 3482 7872 8205 7088 4855 2009 3 595 6105 7148 2015 3877 5422 3648 2590 3376 3529 2929 4225 7767 5961 8933 7313 7913 5735 4442 2752 8379 3085 7748 4956 5552 7851 5494 9276 7117 1943 1473 6333 6453 3718 6194 9736 1517 4114 5218 9064 2364 4869 5152 2046 4858 8042 1877 7970 4501 5246 3 021 8943 9133 7163 2397 3928 4098 2926 5091 9010 2328 1086 4019 2689 8342 6765 8558 3165 6282 6925 5747 3865 1378 7419 8581 5315 5108 2821 3233 4753 7403 6825 8512 9682 2469 7565 9445 5058 8783 8123 1483 7413 8798 9590 2621 7079 8225 7517 8865 2888 4 645 1370 3705 9858 7269 2729 4131 9301 2278 9664 5316 1564 9894 7034 4026 8134 1959 4074 3656 9878"
   ]
  },
  {
   "cell_type": "code",
   "execution_count": 2,
   "metadata": {},
   "outputs": [],
   "source": [
    "numbers = \"7326 2647 9781 9004 6834 6616 6262 3198 1148 5546 7224 9891 8417 2346 7401 1613 9453 3546 7123 5833 4647 6356 9603 8138 3553 2152 9861 2223 8217 2048 9251 2360 3983 7945 8818 9829 6319 7335 1521 2965 2971 3115 6742 2320 8222 3483 4552 9095 9391 8813 4088 9887 2201 5765 1727 4655 9890 8409 5351 5285 2861 7641 1567 3985 1722 3525 8024 9714 4719 7404 4302 8466 6168 6114 1734 8686 7551 6268 1917 3056 8903 8109 9663 8412 3573 8211 9977 4609 7468 9979 3476 4047 2629 3943 2386 7173 8721 5703 7286 1964 2024 7654 1916 8788 2878 3254 3726 6057 2771 5038 8785 3131 7635 1539 2375 3067 9645 4602 3482 7872 8205 7088 4855 2009 3595 6105 7148 2015 3877 5422 3648 2590 3376 3529 2929 4225 7767 5961 8933 7313 7913 5735 4442 2752 8379 3085 7748 4956 5552 7851 5494 9276 7117 1943 1473 6333 6453 3718 6194 9736 1517 4114 5218 9064 2364 4869 5152 2046 4858 8042 1877 7970 4501 5246 3021 8943 9133 7163 2397 3928 4098 2926 5091 9010 2328 1086 4019 2689 8342 6765 8558 3165 6282 6925 5747 3865 1378 7419 8581 5315 5108 2821 3233 4753 7403 6825 8512 9682 2469 7565 9445 5058 8783 8123 1483 7413 8798 9590 2621 7079 8225 7517 8865 2888 4645 1370 3705 9858 7269 2729 4131 9301 2278 9664 5316 1564 9894 7034 4026 8134 1959 4074 3656 9878\""
   ]
  },
  {
   "cell_type": "code",
   "execution_count": 3,
   "metadata": {},
   "outputs": [],
   "source": [
    "list_numbers = numbers.split(\" \") #Split the string by the spaces and generate a list with only the numbers"
   ]
  },
  {
   "cell_type": "code",
   "execution_count": 4,
   "metadata": {},
   "outputs": [
    {
     "data": {
      "text/plain": [
       "['7326', '2647', '9781', '9004', '6834']"
      ]
     },
     "execution_count": 4,
     "metadata": {},
     "output_type": "execute_result"
    }
   ],
   "source": [
    "list_numbers[:5]"
   ]
  },
  {
   "cell_type": "code",
   "execution_count": 5,
   "metadata": {},
   "outputs": [
    {
     "data": {
      "text/plain": [
       "[7326, 2647, 9781, 9004, 6834]"
      ]
     },
     "execution_count": 5,
     "metadata": {},
     "output_type": "execute_result"
    }
   ],
   "source": [
    "# Here the only thing I do is convert each element of the list into a number, since they were originally saved as strings\n",
    "int_list = []\n",
    "for i in list_numbers:\n",
    "    i = int(i)\n",
    "    int_list.append(i)\n",
    "\n",
    "list_numbers = int_list\n",
    "list_numbers[:5]"
   ]
  },
  {
   "cell_type": "code",
   "execution_count": 6,
   "metadata": {},
   "outputs": [],
   "source": [
    "# As I will be removing numbers from the list later, we create a copy so as not to lose the original list\n",
    "list_numbers_2 = list_numbers.copy()"
   ]
  },
  {
   "cell_type": "code",
   "execution_count": 7,
   "metadata": {},
   "outputs": [
    {
     "data": {
      "text/plain": [
       "[703463044096330132540577408572029354039803904,\n",
       " 808223920578598242641829108374388625846714368,\n",
       " 716317838185640905643268261521086405831655424,\n",
       " 542017004438393655318048093601631785048571904,\n",
       " 97098337201147153046202973676080860648972288,\n",
       " 134309420772965179652583656739829144822173696,\n",
       " 71986276611386718114882352901970094851787776,\n",
       " 81884102252141103981524592737261735169160704,\n",
       " 149352710580593827243349890380377642664701184,\n",
       " 604566242219529194424953781008375353190650176,\n",
       " 692863872258804103816265097744182067234001536,\n",
       " 921037066071607946975026818056115779574766992,\n",
       " 757799984196819883983699145216931575591897056,\n",
       " 319883966241095526647746591773287143647143904,\n",
       " 293431498444517294691368570117695623669502848,\n",
       " 390964465094093371564867648956978319822316928,\n",
       " 538818354559311571598698563937608682557353088,\n",
       " 468366700456348586038982978935293615209327232,\n",
       " 270506204888494614835825476835725133657276416,\n",
       " 351320076010594367800957670392712791164321792]"
      ]
     },
     "execution_count": 7,
     "metadata": {},
     "output_type": "execute_result"
    }
   ],
   "source": [
    "# We create a list only for the products of the multiplication of the 11 consecutive numbers\n",
    "products_list = []\n",
    "while len(list_numbers) > 11:\n",
    "    producto = 1\n",
    "    for i in range(12):\n",
    "        producto *= list_numbers[i]\n",
    "    products_list.append(producto)\n",
    "    producto = 1\n",
    "    list_numbers.pop(0)\n",
    "\n",
    "total_products = products_list\n",
    "total_products[:20]"
   ]
  },
  {
   "cell_type": "code",
   "execution_count": 8,
   "metadata": {},
   "outputs": [
    {
     "data": {
      "text/plain": [
       "[[7326, 2647, 9781, 9004, 6834, 6616, 6262, 3198, 1148, 5546, 7224],\n",
       " [2647, 9781, 9004, 6834, 6616, 6262, 3198, 1148, 5546, 7224, 9891],\n",
       " [9781, 9004, 6834, 6616, 6262, 3198, 1148, 5546, 7224, 9891, 8417],\n",
       " [9004, 6834, 6616, 6262, 3198, 1148, 5546, 7224, 9891, 8417, 2346],\n",
       " [6834, 6616, 6262, 3198, 1148, 5546, 7224, 9891, 8417, 2346, 7401],\n",
       " [6616, 6262, 3198, 1148, 5546, 7224, 9891, 8417, 2346, 7401, 1613],\n",
       " [6262, 3198, 1148, 5546, 7224, 9891, 8417, 2346, 7401, 1613, 9453],\n",
       " [3198, 1148, 5546, 7224, 9891, 8417, 2346, 7401, 1613, 9453, 3546],\n",
       " [1148, 5546, 7224, 9891, 8417, 2346, 7401, 1613, 9453, 3546, 7123],\n",
       " [5546, 7224, 9891, 8417, 2346, 7401, 1613, 9453, 3546, 7123, 5833],\n",
       " [7224, 9891, 8417, 2346, 7401, 1613, 9453, 3546, 7123, 5833, 4647],\n",
       " [9891, 8417, 2346, 7401, 1613, 9453, 3546, 7123, 5833, 4647, 6356],\n",
       " [8417, 2346, 7401, 1613, 9453, 3546, 7123, 5833, 4647, 6356, 9603],\n",
       " [2346, 7401, 1613, 9453, 3546, 7123, 5833, 4647, 6356, 9603, 8138],\n",
       " [7401, 1613, 9453, 3546, 7123, 5833, 4647, 6356, 9603, 8138, 3553],\n",
       " [1613, 9453, 3546, 7123, 5833, 4647, 6356, 9603, 8138, 3553, 2152],\n",
       " [9453, 3546, 7123, 5833, 4647, 6356, 9603, 8138, 3553, 2152, 9861],\n",
       " [3546, 7123, 5833, 4647, 6356, 9603, 8138, 3553, 2152, 9861, 2223],\n",
       " [7123, 5833, 4647, 6356, 9603, 8138, 3553, 2152, 9861, 2223, 8217],\n",
       " [5833, 4647, 6356, 9603, 8138, 3553, 2152, 9861, 2223, 8217, 2048]]"
      ]
     },
     "execution_count": 8,
     "metadata": {},
     "output_type": "execute_result"
    }
   ],
   "source": [
    "groups_list = []\n",
    "while len(list_numbers_2) > 11: # Generate a loop that plays as long as the length of the list is greater than 11\n",
    "    sub_list = [] # This list is to house the groups of 11 consecutive numbers\n",
    "    for i in range(11):\n",
    "        sub_list.append(list_numbers_2[i]) # Insert 11 values into the sub_list to get a group of 11 consecutive numbers\n",
    "    # Once we have the group of 11 consecutive numbers, we add the group to the groups_list where it will be stored\n",
    "    # the groups of 11 numbers. Then we empty the list sub_list to start over again with the group of 11 numbers that follows it\n",
    "    # and finally we eliminate the first value of the list list_numbers_2 so we discard it for the next group of 11 numbers\n",
    "    groups_list.append(sub_list)\n",
    "    sub_list = []\n",
    "    list_numbers_2.pop(0)\n",
    "groups_list[:20]"
   ]
  },
  {
   "cell_type": "code",
   "execution_count": 9,
   "metadata": {},
   "outputs": [],
   "source": [
    "import pandas as pd"
   ]
  },
  {
   "cell_type": "code",
   "execution_count": 10,
   "metadata": {},
   "outputs": [],
   "source": [
    "dicc = { \"List of 11 consecutive numbers\":groups_list, \"Total of multiplication\":total_products\n",
    "}"
   ]
  },
  {
   "cell_type": "code",
   "execution_count": 12,
   "metadata": {},
   "outputs": [],
   "source": [
    "# Convert the values of the column \"Total of multiplicationmultiplication\" to numbers\n",
    "df = pd.DataFrame(dicc)\n",
    "df[\"Total of multiplication\"] = pd.to_numeric(df[\"Total of multiplication\"], errors=\"coerce\")"
   ]
  },
  {
   "cell_type": "code",
   "execution_count": 13,
   "metadata": {},
   "outputs": [],
   "source": [
    "# Set the columns of the df to my preference\n",
    "df = df[[\"List of 11 consecutive numbers\",\"Total of multiplication\"]]"
   ]
  },
  {
   "cell_type": "code",
   "execution_count": 14,
   "metadata": {},
   "outputs": [],
   "source": [
    "# Sort the df in descending order according to the values of the column \"Total of multiplication\"\n",
    "df = df.sort_values(\"Total of multiplication\",ascending=False)"
   ]
  },
  {
   "cell_type": "code",
   "execution_count": 15,
   "metadata": {},
   "outputs": [
    {
     "data": {
      "text/html": [
       "<div>\n",
       "<style scoped>\n",
       "    .dataframe tbody tr th:only-of-type {\n",
       "        vertical-align: middle;\n",
       "    }\n",
       "\n",
       "    .dataframe tbody tr th {\n",
       "        vertical-align: top;\n",
       "    }\n",
       "\n",
       "    .dataframe thead th {\n",
       "        text-align: right;\n",
       "    }\n",
       "</style>\n",
       "<table border=\"1\" class=\"dataframe\">\n",
       "  <thead>\n",
       "    <tr style=\"text-align: right;\">\n",
       "      <th></th>\n",
       "      <th>List of 11 consecutive numbers</th>\n",
       "      <th>Total of multiplication</th>\n",
       "    </tr>\n",
       "  </thead>\n",
       "  <tbody>\n",
       "    <tr>\n",
       "      <th>80</th>\n",
       "      <td>[8903, 8109, 9663, 8412, 3573, 8211, 9977, 460...</td>\n",
       "      <td>8.299558e+45</td>\n",
       "    </tr>\n",
       "    <tr>\n",
       "      <th>79</th>\n",
       "      <td>[3056, 8903, 8109, 9663, 8412, 3573, 8211, 997...</td>\n",
       "      <td>6.267223e+45</td>\n",
       "    </tr>\n",
       "    <tr>\n",
       "      <th>206</th>\n",
       "      <td>[8512, 9682, 2469, 7565, 9445, 5058, 8783, 812...</td>\n",
       "      <td>4.866364e+45</td>\n",
       "    </tr>\n",
       "    <tr>\n",
       "      <th>75</th>\n",
       "      <td>[8686, 7551, 6268, 1917, 3056, 8903, 8109, 966...</td>\n",
       "      <td>4.136878e+45</td>\n",
       "    </tr>\n",
       "    <tr>\n",
       "      <th>202</th>\n",
       "      <td>[3233, 4753, 7403, 6825, 8512, 9682, 2469, 756...</td>\n",
       "      <td>4.073341e+45</td>\n",
       "    </tr>\n",
       "    <tr>\n",
       "      <th>...</th>\n",
       "      <td>...</td>\n",
       "      <td>...</td>\n",
       "    </tr>\n",
       "    <tr>\n",
       "      <th>177</th>\n",
       "      <td>[7163, 2397, 3928, 4098, 2926, 5091, 9010, 232...</td>\n",
       "      <td>8.454743e+42</td>\n",
       "    </tr>\n",
       "    <tr>\n",
       "      <th>178</th>\n",
       "      <td>[2397, 3928, 4098, 2926, 5091, 9010, 2328, 108...</td>\n",
       "      <td>7.984970e+42</td>\n",
       "    </tr>\n",
       "    <tr>\n",
       "      <th>122</th>\n",
       "      <td>[4855, 2009, 3595, 6105, 7148, 2015, 3877, 542...</td>\n",
       "      <td>7.295874e+42</td>\n",
       "    </tr>\n",
       "    <tr>\n",
       "      <th>104</th>\n",
       "      <td>[2878, 3254, 3726, 6057, 2771, 5038, 8785, 313...</td>\n",
       "      <td>6.946297e+42</td>\n",
       "    </tr>\n",
       "    <tr>\n",
       "      <th>123</th>\n",
       "      <td>[2009, 3595, 6105, 7148, 2015, 3877, 5422, 364...</td>\n",
       "      <td>4.401569e+42</td>\n",
       "    </tr>\n",
       "  </tbody>\n",
       "</table>\n",
       "<p>233 rows × 2 columns</p>\n",
       "</div>"
      ],
      "text/plain": [
       "                        List of 11 consecutive numbers  \\\n",
       "80   [8903, 8109, 9663, 8412, 3573, 8211, 9977, 460...   \n",
       "79   [3056, 8903, 8109, 9663, 8412, 3573, 8211, 997...   \n",
       "206  [8512, 9682, 2469, 7565, 9445, 5058, 8783, 812...   \n",
       "75   [8686, 7551, 6268, 1917, 3056, 8903, 8109, 966...   \n",
       "202  [3233, 4753, 7403, 6825, 8512, 9682, 2469, 756...   \n",
       "..                                                 ...   \n",
       "177  [7163, 2397, 3928, 4098, 2926, 5091, 9010, 232...   \n",
       "178  [2397, 3928, 4098, 2926, 5091, 9010, 2328, 108...   \n",
       "122  [4855, 2009, 3595, 6105, 7148, 2015, 3877, 542...   \n",
       "104  [2878, 3254, 3726, 6057, 2771, 5038, 8785, 313...   \n",
       "123  [2009, 3595, 6105, 7148, 2015, 3877, 5422, 364...   \n",
       "\n",
       "     Total of multiplication  \n",
       "80              8.299558e+45  \n",
       "79              6.267223e+45  \n",
       "206             4.866364e+45  \n",
       "75              4.136878e+45  \n",
       "202             4.073341e+45  \n",
       "..                       ...  \n",
       "177             8.454743e+42  \n",
       "178             7.984970e+42  \n",
       "122             7.295874e+42  \n",
       "104             6.946297e+42  \n",
       "123             4.401569e+42  \n",
       "\n",
       "[233 rows x 2 columns]"
      ]
     },
     "execution_count": 15,
     "metadata": {},
     "output_type": "execute_result"
    }
   ],
   "source": [
    "df"
   ]
  },
  {
   "cell_type": "code",
   "execution_count": 17,
   "metadata": {},
   "outputs": [
    {
     "name": "stdout",
     "output_type": "stream",
     "text": [
      "These are the 11 consecutive numbers of the sequence that multiplied together give the greatest possible product\n",
      "[8903, 8109, 9663, 8412, 3573, 8211, 9977, 4609, 7468, 9979, 3476]\n",
      "\n",
      "This group of 11 consecutive numbers is in the position '80' of the sequence\n",
      "\n",
      "The product of the multiplication of the 11 numbers is\n",
      "8299558111287508560272843623382752974935351232 \n",
      "len: 46\n"
     ]
    }
   ],
   "source": [
    "print(\"These are the 11 consecutive numbers of the sequence that multiplied together give the greatest possible product\")\n",
    "print(df[\"List of 11 consecutive numbers\"][df[\"Total of multiplication\"].idxmax()])\n",
    "print(\"\")\n",
    "print(f\"This group of 11 consecutive numbers is in the position '{total_products.index(max(total_products))}' of the sequence\")\n",
    "print(\"\")\n",
    "print(\"The product of the multiplication of the 11 numbers is\")\n",
    "print(total_products[df[\"Total of multiplication\"].idxmax()],\"\\nlen:\",len(str(total_products[df[\"Total of multiplication\"].idxmax()])))"
   ]
  },
  {
   "cell_type": "code",
   "execution_count": 18,
   "metadata": {},
   "outputs": [
    {
     "data": {
      "text/html": [
       "<div>\n",
       "<style scoped>\n",
       "    .dataframe tbody tr th:only-of-type {\n",
       "        vertical-align: middle;\n",
       "    }\n",
       "\n",
       "    .dataframe tbody tr th {\n",
       "        vertical-align: top;\n",
       "    }\n",
       "\n",
       "    .dataframe thead th {\n",
       "        text-align: right;\n",
       "    }\n",
       "</style>\n",
       "<table border=\"1\" class=\"dataframe\">\n",
       "  <thead>\n",
       "    <tr style=\"text-align: right;\">\n",
       "      <th></th>\n",
       "      <th>List of 11 consecutive numbers</th>\n",
       "      <th>Total of multiplication</th>\n",
       "    </tr>\n",
       "  </thead>\n",
       "  <tbody>\n",
       "    <tr>\n",
       "      <th>80</th>\n",
       "      <td>[8903, 8109, 9663, 8412, 3573, 8211, 9977, 460...</td>\n",
       "      <td>8.299558e+45</td>\n",
       "    </tr>\n",
       "  </tbody>\n",
       "</table>\n",
       "</div>"
      ],
      "text/plain": [
       "                       List of 11 consecutive numbers  Total of multiplication\n",
       "80  [8903, 8109, 9663, 8412, 3573, 8211, 9977, 460...             8.299558e+45"
      ]
     },
     "execution_count": 18,
     "metadata": {},
     "output_type": "execute_result"
    }
   ],
   "source": [
    "df.head(1)"
   ]
  },
  {
   "attachments": {},
   "cell_type": "markdown",
   "metadata": {},
   "source": [
    "7326 2647 9781 9004 6834 6616 6262 3198 1148 5546 7224 9891 8417 2346 7401 1613 9453 3546 7123 5833 4647 6356 9603 8138 3553 2152 9861 2223 8217 2048 9251 2360 3983 7945 8818 9829 6319 7335 1521 2965 2971 3115 6742 2320 8222 3483 4552 9095 9391 8813 4088 9887 2201 5765 1727 4655 9890 8409 5351 5285 2861 7641 1567 3985 1722 3525 8024 9714 4719 7404 4302 8466 6168 6114 1734 8686 7551 6268 1917 3056 <mark>8903 8109 9663 8412 3573 8211 9977 4609 7468 9979 3476</mark> 4047 2629 3943 2386 7173 8721 5703 7286 1964 2024 7654 1916 8788 2878 3254 3726 6057 2771 5038 8785 3131 7635 1539 2375 3067 9645 4602 3482 7872 8205 7088 4855 2009 3595 6105 7148 2015 3877 5422 3648 2590 3376 3529 2929 4225 7767 5961 8933 7313 7913 5735 4442 2752 8379 3085 7748 4956 5552 7851 5494 9276 7117 1943 1473 6333 6453 3718 6194 9736 1517 4114 5218 9064 2364 4869 5152 2046 4858 8042 1877 7970 4501 5246 3021 8943 9133 7163 2397 3928 4098 2926 5091 9010 2328 1086 4019 2689 8342 6765 8558 3165 6282 6925 5747 3865 1378 7419 8581 5315 5108 2821 3233 4753 7403 6825 8512 9682 2469 7565 9445 5058 8783 8123 1483 7413 8798 9590 2621 7079 8225 7517 8865 2888 4645 1370 3705 9858 7269 2729 4131 9301 2278 9664 5316 1564 9894 7034 4026 8134 1959 4074 3656 9878"
   ]
  }
 ],
 "metadata": {
  "kernelspec": {
   "display_name": "Python 3",
   "language": "python",
   "name": "python3"
  },
  "language_info": {
   "codemirror_mode": {
    "name": "ipython",
    "version": 3
   },
   "file_extension": ".py",
   "mimetype": "text/x-python",
   "name": "python",
   "nbconvert_exporter": "python",
   "pygments_lexer": "ipython3",
   "version": "3.10.11"
  },
  "orig_nbformat": 4
 },
 "nbformat": 4,
 "nbformat_minor": 2
}
